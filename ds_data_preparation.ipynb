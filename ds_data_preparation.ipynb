{
 "cells": [
  {
   "cell_type": "code",
   "execution_count": null,
   "id": "a179c7c8-51df-4abc-8c6b-05cb63b3ea1b",
   "metadata": {},
   "outputs": [
    {
     "name": "stdout",
     "output_type": "stream",
     "text": [
      "              name  stock   price   unit     category        branch\n",
      "0      In Question    361  466.27    box     Clothing      Branch C\n",
      "1   Thing Computer    405  311.41    box        Books      Branch B\n",
      "2       Our Speech    436  372.49     kg    Furniture      Branch B\n",
      "3      Room Finish    214  178.38     kg         Toys      Branch C\n",
      "4     Beat Account    315   85.71  meter    Furniture      Branch C\n",
      "..             ...    ...     ...    ...          ...           ...\n",
      "95        Only Red    306   86.96    box  Electronics      Branch C\n",
      "96  Friend Believe    228  190.52  litre    Furniture      Branch B\n",
      "97     Whole Claim    327  362.81  piece        Books      Branch B\n",
      "98      Same Build    474  287.56    box        Books      Branch B\n",
      "99      Late Skill    378  286.04  meter    Furniture  Online Store\n",
      "\n",
      "[100 rows x 6 columns]\n"
     ]
    }
   ],
   "source": [
    "import pandas as pd\n",
    "path=\"files/products.csv\"\n",
    "\n",
    "health_data = pd.read_csv(path, header=0, sep=\",\")\n",
    "\n",
    "print(health_data)"
   ]
  },
  {
   "cell_type": "code",
   "execution_count": 3,
   "id": "f6932e36-c013-4449-8e53-7a83420f453a",
   "metadata": {},
   "outputs": [
    {
     "name": "stdout",
     "output_type": "stream",
     "text": [
      "             name  stock   price   unit   category    branch\n",
      "0     In Question    361  466.27    box   Clothing  Branch C\n",
      "1  Thing Computer    405  311.41    box      Books  Branch B\n",
      "2      Our Speech    436  372.49     kg  Furniture  Branch B\n",
      "3     Room Finish    214  178.38     kg       Toys  Branch C\n",
      "4    Beat Account    315   85.71  meter  Furniture  Branch C\n"
     ]
    }
   ],
   "source": [
    "print(health_data.head())"
   ]
  },
  {
   "cell_type": "code",
   "execution_count": 4,
   "id": "5aad2be8-06b7-418e-ad7f-0431740852bb",
   "metadata": {},
   "outputs": [],
   "source": [
    "health_data.dropna(axis=0,inplace=True)\n"
   ]
  },
  {
   "cell_type": "code",
   "execution_count": 5,
   "id": "2f5abf19-fe66-44e2-91c9-9ff92a08c072",
   "metadata": {},
   "outputs": [
    {
     "name": "stdout",
     "output_type": "stream",
     "text": [
      "              name  stock   price   unit     category        branch\n",
      "0      In Question    361  466.27    box     Clothing      Branch C\n",
      "1   Thing Computer    405  311.41    box        Books      Branch B\n",
      "2       Our Speech    436  372.49     kg    Furniture      Branch B\n",
      "3      Room Finish    214  178.38     kg         Toys      Branch C\n",
      "4     Beat Account    315   85.71  meter    Furniture      Branch C\n",
      "..             ...    ...     ...    ...          ...           ...\n",
      "95        Only Red    306   86.96    box  Electronics      Branch C\n",
      "96  Friend Believe    228  190.52  litre    Furniture      Branch B\n",
      "97     Whole Claim    327  362.81  piece        Books      Branch B\n",
      "98      Same Build    474  287.56    box        Books      Branch B\n",
      "99      Late Skill    378  286.04  meter    Furniture  Online Store\n",
      "\n",
      "[100 rows x 6 columns]\n"
     ]
    }
   ],
   "source": [
    "print(health_data)"
   ]
  },
  {
   "cell_type": "code",
   "execution_count": 6,
   "id": "d51bc734-3e93-4764-a6d2-a1a39775ff7b",
   "metadata": {},
   "outputs": [
    {
     "name": "stdout",
     "output_type": "stream",
     "text": [
      "<class 'pandas.core.frame.DataFrame'>\n",
      "RangeIndex: 100 entries, 0 to 99\n",
      "Data columns (total 6 columns):\n",
      " #   Column    Non-Null Count  Dtype  \n",
      "---  ------    --------------  -----  \n",
      " 0   name      100 non-null    object \n",
      " 1   stock     100 non-null    int64  \n",
      " 2   price     100 non-null    float64\n",
      " 3   unit      100 non-null    object \n",
      " 4   category  100 non-null    object \n",
      " 5   branch    100 non-null    object \n",
      "dtypes: float64(1), int64(1), object(4)\n",
      "memory usage: 4.8+ KB\n",
      "None\n"
     ]
    }
   ],
   "source": [
    "print(health_data.info())"
   ]
  },
  {
   "cell_type": "code",
   "execution_count": 7,
   "id": "55bfed9b-6aee-47d9-9f92-42ff7a0aa6d4",
   "metadata": {},
   "outputs": [
    {
     "name": "stdout",
     "output_type": "stream",
     "text": [
      "            stock       price\n",
      "count  100.000000  100.000000\n",
      "mean   253.770000  243.819800\n",
      "std    136.954306  147.973934\n",
      "min     11.000000    5.530000\n",
      "25%    148.000000  122.020000\n",
      "50%    263.000000  224.990000\n",
      "75%    361.750000  373.007500\n",
      "max    494.000000  496.250000\n"
     ]
    }
   ],
   "source": [
    "print(health_data.describe())"
   ]
  },
  {
   "cell_type": "code",
   "execution_count": null,
   "id": "910accbb-a2b1-444c-b2e3-ab45c2ec552c",
   "metadata": {},
   "outputs": [],
   "source": []
  }
 ],
 "metadata": {
  "kernelspec": {
   "display_name": "Python 3 (ipykernel)",
   "language": "python",
   "name": "python3"
  },
  "language_info": {
   "codemirror_mode": {
    "name": "ipython",
    "version": 3
   },
   "file_extension": ".py",
   "mimetype": "text/x-python",
   "name": "python",
   "nbconvert_exporter": "python",
   "pygments_lexer": "ipython3",
   "version": "3.10.12"
  }
 },
 "nbformat": 4,
 "nbformat_minor": 5
}

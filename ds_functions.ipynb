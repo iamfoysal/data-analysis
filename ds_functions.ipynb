{
 "cells": [
  {
   "cell_type": "code",
   "execution_count": 37,
   "id": "ca9743f7-cbb9-4668-b740-d1e356294e5d",
   "metadata": {},
   "outputs": [
    {
     "name": "stdout",
     "output_type": "stream",
     "text": [
      "125\n"
     ]
    }
   ],
   "source": [
    "# max() function\n",
    "average_max_pulse = max( 105, 110, 115, 120, 125, 80, 85, 90, 95, 100,)\n",
    "\n",
    "print (average_max_pulse)"
   ]
  },
  {
   "cell_type": "code",
   "execution_count": 39,
   "id": "a291fb17-6230-45d8-88f2-bc5f56ec3de5",
   "metadata": {},
   "outputs": [
    {
     "name": "stdout",
     "output_type": "stream",
     "text": [
      "70\n"
     ]
    }
   ],
   "source": [
    "# min() function\n",
    "average_min_pulse = min( 105, 110, 115, 120, 125, 70, 85, 90, 95, 100,)\n",
    "\n",
    "print (average_min_pulse)"
   ]
  },
  {
   "cell_type": "code",
   "execution_count": 42,
   "id": "3aec8270-3cab-4365-8739-3cef3d1fcde3",
   "metadata": {},
   "outputs": [
    {
     "name": "stdout",
     "output_type": "stream",
     "text": [
      "285.0\n"
     ]
    }
   ],
   "source": [
    "# mean() function\n",
    "import numpy as np\n",
    "\n",
    "calorie_burnage = [240, 250, 260, 270, 280, 290, 300, 310, 320, 330]\n",
    "average_calorie_burnage = np.mean(calorie_burnage)\n",
    "\n",
    "print(average_calorie_burnage)"
   ]
  },
  {
   "cell_type": "code",
   "execution_count": 53,
   "id": "8c6589ac-23d6-4c48-83af-e17f77d38008",
   "metadata": {},
   "outputs": [
    {
     "name": "stdout",
     "output_type": "stream",
     "text": [
      "      A\n",
      "0   1.0\n",
      "1   2.0\n",
      "3   4.0\n",
      "4   5.0\n",
      "6   7.0\n",
      "7   8.0\n",
      "8   9.0\n",
      "9  10.0\n"
     ]
    }
   ],
   "source": [
    "# Data Cleaning Functions (Using pandas)\n",
    "import pandas as pd\n",
    "\n",
    "# Replace missing values with mean\n",
    "def fill_missing_with_mean(df, column):\n",
    "    df[column].fillna(df[column].mean())\n",
    "\n",
    "# Remove outliers using Interquartile Range (IQR) Method\n",
    "def remove_outliers(df, column):\n",
    "    Q1 = df[column].quantile(0.25) # 25th percentile\n",
    "    Q3 = df[column].quantile(0.75) # 75th percentile \n",
    "    IQR = Q3 - Q1\n",
    "    return df[(df[column] >= Q1 - 1.5 * IQR) & (df[column] <= Q3 + 1.5 * IQR)] # Values within 1.5*IQR are kept in the dataframe \n",
    "\n",
    "\n",
    "# Example usage\n",
    "data = {'A': [1, 2, None, 4, 5, 79, 7, 8, 9, 10]} \n",
    "df = pd.DataFrame(data)\n",
    "fill_missing_with_mean(df, 'A')\n",
    "df = remove_outliers(df, 'A')\n",
    "print(df)\n"
   ]
  },
  {
   "cell_type": "code",
   "execution_count": null,
   "id": "2880f0cd",
   "metadata": {},
   "outputs": [],
   "source": []
  },
  {
   "cell_type": "code",
   "execution_count": null,
   "id": "04328216-8d1f-4914-82f2-a9ca11347967",
   "metadata": {},
   "outputs": [],
   "source": []
  },
  {
   "cell_type": "code",
   "execution_count": null,
   "id": "63229a0b-a44c-4cf4-8061-e963cf4ee89a",
   "metadata": {},
   "outputs": [],
   "source": []
  }
 ],
 "metadata": {
  "kernelspec": {
   "display_name": "Python 3 (ipykernel)",
   "language": "python",
   "name": "python3"
  },
  "language_info": {
   "codemirror_mode": {
    "name": "ipython",
    "version": 3
   },
   "file_extension": ".py",
   "mimetype": "text/x-python",
   "name": "python",
   "nbconvert_exporter": "python",
   "pygments_lexer": "ipython3",
   "version": "3.10.12"
  }
 },
 "nbformat": 4,
 "nbformat_minor": 5
}

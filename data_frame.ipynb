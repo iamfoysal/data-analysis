{
 "cells": [
  {
   "cell_type": "code",
   "execution_count": 6,
   "id": "b87a871d-b271-4b7a-92b2-20ba55bd55d9",
   "metadata": {},
   "outputs": [
    {
     "name": "stdout",
     "output_type": "stream",
     "text": [
      "   col1  col2  col3\n",
      "0     1     4     7\n",
      "1     2     5     8\n",
      "2     3     6    12\n",
      "3     4     9     1\n",
      "4     7     5    11\n"
     ]
    }
   ],
   "source": [
    "import pandas as pd\n",
    "\n",
    "d = {'col1': [1, 2, 3, 4, 7], 'col2': [4, 5, 6, 9, 5], 'col3': [7, 8, 12, 1, 11]}\n",
    "\n",
    "df = pd.DataFrame(data=d)\n",
    "\n",
    "print(df)"
   ]
  },
  {
   "cell_type": "code",
   "execution_count": 7,
   "id": "2ad5ddad-5fcc-471c-a23b-56e687278a43",
   "metadata": {},
   "outputs": [
    {
     "name": "stdout",
     "output_type": "stream",
     "text": [
      "      Name  Age         City\n",
      "0    Alice   25     New York\n",
      "1      Bob   30  Los Angeles\n",
      "2  Charlie   35      Chicago\n"
     ]
    }
   ],
   "source": [
    "data = {\n",
    "    'Name': ['Alice', 'Bob', 'Charlie'],\n",
    "    'Age': [25, 30, 35],\n",
    "    'City': ['New York', 'Los Angeles', 'Chicago']\n",
    "}\n",
    "df = pd.DataFrame(data)\n",
    "print(df)\n"
   ]
  },
  {
   "cell_type": "code",
   "execution_count": 8,
   "id": "2be2cc10-2485-4e4c-8fe6-89cf958bf6f9",
   "metadata": {},
   "outputs": [
    {
     "name": "stdout",
     "output_type": "stream",
     "text": [
      "      Name  Age         City\n",
      "0    Alice   25     New York\n",
      "1      Bob   30  Los Angeles\n",
      "2  Charlie   35      Chicago\n"
     ]
    }
   ],
   "source": [
    "data = [\n",
    "    ['Alice', 25, 'New York'],\n",
    "    ['Bob', 30, 'Los Angeles'],\n",
    "    ['Charlie', 35, 'Chicago']\n",
    "]\n",
    "df = pd.DataFrame(data, columns=['Name', 'Age', 'City'])\n",
    "print(df)\n"
   ]
  },
  {
   "cell_type": "code",
   "execution_count": 9,
   "id": "06d45dcc-734b-481e-9151-9d8e5ac6d1ed",
   "metadata": {},
   "outputs": [
    {
     "name": "stdout",
     "output_type": "stream",
     "text": [
      "      Name  Age         City\n",
      "0    Alice   25     New York\n",
      "1      Bob   30  Los Angeles\n",
      "2  Charlie   35      Chicago\n"
     ]
    }
   ],
   "source": [
    "data = [\n",
    "    {'Name': 'Alice', 'Age': 25, 'City': 'New York'},\n",
    "    {'Name': 'Bob', 'Age': 30, 'City': 'Los Angeles'},\n",
    "    {'Name': 'Charlie', 'Age': 35, 'City': 'Chicago'}\n",
    "]\n",
    "df = pd.DataFrame(data)\n",
    "print(df)\n"
   ]
  },
  {
   "cell_type": "code",
   "execution_count": 19,
   "id": "1f6850da-6068-456a-836e-0cf5168fca13",
   "metadata": {},
   "outputs": [
    {
     "name": "stdout",
     "output_type": "stream",
     "text": [
      "DATA: [['Alice' '25' 'New York']\n",
      " ['Bob' '30' 'Los Angeles']\n",
      " ['Charlie' '35' 'Chicago']] \n",
      "\n",
      "      Name Age         City\n",
      "0    Alice  25     New York\n",
      "1      Bob  30  Los Angeles\n",
      "2  Charlie  35      Chicago\n"
     ]
    }
   ],
   "source": [
    "import numpy as np\n",
    "\n",
    "data = np.array([\n",
    "    ['Alice', 25, 'New York'],\n",
    "    ['Bob', 30, 'Los Angeles'],\n",
    "    ['Charlie', 35, 'Chicago']\n",
    "])\n",
    "print(\"DATA:\",data, \"\\n\")\n",
    "df = pd.DataFrame(data, columns=['Name', 'Age', 'City'])\n",
    "print(df)\n"
   ]
  },
  {
   "cell_type": "code",
   "execution_count": 27,
   "id": "af670175-c614-4d83-80c8-60d27ae6ce98",
   "metadata": {},
   "outputs": [
    {
     "name": "stdout",
     "output_type": "stream",
     "text": [
      "      Name  Age         City      Nation\n",
      "0    Alice   25     New York         USA\n",
      "1      Bob   30  Los Angeles  Bangladesh\n",
      "2  Charlie   35      Chicago      Bangla\n",
      "3   kawsar   35        Nokia          BD\n"
     ]
    }
   ],
   "source": [
    "df = pd.DataFrame(columns=['Name', 'Age', 'City','Nation',])\n",
    "\n",
    "# Adding rows\n",
    "df.loc[0] = ['Alice', 25, 'New York', 'USA']\n",
    "df.loc[1] = ['Bob', 30, 'Los Angeles','Bangladesh']\n",
    "df.loc[2] = ['Charlie', 35, 'Chicago','Bangla']\n",
    "df.loc[3] = ['kawsar', 35, 'Nokia','BD']\n",
    "print(df)\n"
   ]
  },
  {
   "cell_type": "code",
   "execution_count": 30,
   "id": "3868200e-e16a-460c-8fd2-7d8bea0658b4",
   "metadata": {},
   "outputs": [
    {
     "name": "stdout",
     "output_type": "stream",
     "text": [
      "    Numbers  Squares\n",
      "0         1        1\n",
      "1         2        4\n",
      "2         3        9\n",
      "3         4       16\n",
      "4         5       25\n",
      "5         6       36\n",
      "6         7       49\n",
      "7         8       64\n",
      "8         9       81\n",
      "9        10      100\n",
      "10       11      121\n",
      "11       12      144\n",
      "12       13      169\n",
      "13       14      196\n",
      "14       15      225\n",
      "15       16      256\n",
      "16       17      289\n",
      "17       18      324\n",
      "18       19      361\n",
      "19       20      400\n"
     ]
    }
   ],
   "source": [
    "#DataFrame Using a Range of Numbers\n",
    "df = pd.DataFrame({\n",
    "    'Numbers': range(1, 21),\n",
    "    'Squares': [x**2 for x in range(1, 21)]\n",
    "    \n",
    "})\n",
    "print(df)\n"
   ]
  },
  {
   "cell_type": "code",
   "execution_count": 31,
   "id": "3a6dbca7-68a8-430e-a83b-240724eead14",
   "metadata": {},
   "outputs": [
    {
     "name": "stdout",
     "output_type": "stream",
     "text": [
      "        Date  Value\n",
      "0 2024-01-01      0\n",
      "1 2024-01-02      1\n",
      "2 2024-01-03      2\n",
      "3 2024-01-04      3\n",
      "4 2024-01-05      4\n",
      "5 2024-01-06      5\n",
      "6 2024-01-07      6\n",
      "7 2024-01-08      7\n",
      "8 2024-01-09      8\n",
      "9 2024-01-10      9\n"
     ]
    }
   ],
   "source": [
    "date_range = pd.date_range(start='2024-01-01', end='2024-01-10')\n",
    "df = pd.DataFrame({'Date': date_range, 'Value': range(10)})\n",
    "print(df)"
   ]
  },
  {
   "cell_type": "code",
   "execution_count": 34,
   "id": "2def674e-589b-41bc-afc8-3d9f6af9f6a7",
   "metadata": {},
   "outputs": [
    {
     "name": "stdout",
     "output_type": "stream",
     "text": [
      "    A         B  C\n",
      "0  89 -0.280149  Y\n",
      "1  91 -1.490716  X\n",
      "2  95  1.379710  Y\n",
      "3  63 -0.863413  Z\n",
      "4  15 -1.350724  X\n",
      "5  15 -0.432699  Z\n",
      "6  72 -0.076273  Y\n",
      "7  21  2.422485  Z\n",
      "8  71  1.798919  Y\n",
      "9  32  1.781182  Y\n"
     ]
    }
   ],
   "source": [
    "#Random Data\n",
    "df = pd.DataFrame({\n",
    "    'A': np.random.randint(1, 100, 10),\n",
    "    'B': np.random.randn(10),\n",
    "    'C': np.random.choice(['X', 'Y', 'Z'], 10)\n",
    "})\n",
    "print(df)\n"
   ]
  },
  {
   "cell_type": "code",
   "execution_count": 35,
   "id": "d95419e0-40b9-4774-be1b-419a6a9068f5",
   "metadata": {},
   "outputs": [
    {
     "name": "stdout",
     "output_type": "stream",
     "text": [
      "          Value1  Value2\n",
      "Group ID                \n",
      "A     1       10      20\n",
      "      2       30      40\n",
      "B     1       50      60\n",
      "      2       70      80\n"
     ]
    }
   ],
   "source": [
    "#Hierarchical (MultiIndex)\n",
    "arrays = [\n",
    "    ['A', 'A', 'B', 'B'],\n",
    "    [1, 2, 1, 2]\n",
    "]\n",
    "df = pd.DataFrame(\n",
    "    data=[[10, 20], [30, 40], [50, 60], [70, 80]],\n",
    "    index=pd.MultiIndex.from_arrays(arrays, names=('Group', 'ID')),\n",
    "    columns=['Value1', 'Value2']\n",
    ")\n",
    "print(df)\n"
   ]
  }
 ],
 "metadata": {
  "kernelspec": {
   "display_name": "Python 3 (ipykernel)",
   "language": "python",
   "name": "python3"
  },
  "language_info": {
   "codemirror_mode": {
    "name": "ipython",
    "version": 3
   },
   "file_extension": ".py",
   "mimetype": "text/x-python",
   "name": "python",
   "nbconvert_exporter": "python",
   "pygments_lexer": "ipython3",
   "version": "3.10.12"
  }
 },
 "nbformat": 4,
 "nbformat_minor": 5
}

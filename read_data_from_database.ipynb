{
 "cells": [
  {
   "cell_type": "code",
   "execution_count": 6,
   "id": "c9b4a0c3-4014-414b-bfa7-118b6504fd1c",
   "metadata": {},
   "outputs": [
    {
     "name": "stdout",
     "output_type": "stream",
     "text": [
      "   id name            email                   address                                            phone                   birth_date \n",
      "0  1       John Riley  trodriguez@example.net  264 James Gardens Apt. 353\\nRachelmouth, MI 44144       795-298-1723x2243  1993-01-31\n",
      "1  2   Frank Gonzalez    george65@example.com     368 Sara Glens Suite 376\\nEast Billy, OH 33906  001-637-586-3452x12775  1967-09-07\n",
      "2  3     Michael Gray  danielle60@example.org          6159 Julia Circles\\nEast Justin, AZ 90162       976-779-2996x8171  1999-06-15\n",
      "3  4        Ryan Lang       uhall@example.org  38890 Wright Trail Suite 475\\nHeatherhaven, VA...       899.478.6161x6916  2003-12-12\n",
      "4  5   Victoria Gross    daniel06@example.org                             USNS Fry\\nFPO AA 51542   +1-426-816-4527x52765  1953-01-30\n"
     ]
    }
   ],
   "source": [
    "import sqlite3\n",
    "import pandas as pd\n",
    "\n",
    "db_name = \"db/users.db\"\n",
    "table_name = \"users\"\n",
    "def read_database_to_dataframe():\n",
    "    conn = sqlite3.connect(db_name)\n",
    "    df = pd.read_sql_query(f\"SELECT * FROM {table_name}\", conn)\n",
    "    conn.close()\n",
    "    return df\n",
    "    \n",
    "# Beautify DataFrame display\n",
    "pd.set_option(\"display.max_columns\", None)  # Show all columns\n",
    "pd.set_option(\"display.max_rows\", None)  # Show all rows\n",
    "pd.set_option(\"display.width\", 1000)  # Adjust display width for better fit\n",
    "pd.set_option(\"display.colheader_justify\", \"left\")  # Align column headers to the left\n",
    "pd.set_option(\"display.expand_frame_repr\", False)  # Disable wrapping of rows\n",
    "\n",
    "df = read_database_to_dataframe()\n",
    "# print(df)\n",
    "print(df.head())\n",
    "\n"
   ]
  },
  {
   "cell_type": "code",
   "execution_count": null,
   "id": "7644c026-352b-4565-bc29-8be88aa24b90",
   "metadata": {},
   "outputs": [],
   "source": []
  }
 ],
 "metadata": {
  "kernelspec": {
   "display_name": "Python 3 (ipykernel)",
   "language": "python",
   "name": "python3"
  },
  "language_info": {
   "codemirror_mode": {
    "name": "ipython",
    "version": 3
   },
   "file_extension": ".py",
   "mimetype": "text/x-python",
   "name": "python",
   "nbconvert_exporter": "python",
   "pygments_lexer": "ipython3",
   "version": "3.10.12"
  }
 },
 "nbformat": 4,
 "nbformat_minor": 5
}
